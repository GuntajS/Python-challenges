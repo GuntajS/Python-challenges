{
 "cells": [
  {
   "cell_type": "markdown",
   "id": "14781453",
   "metadata": {},
   "source": [
    "War game recreation\n",
    "split a 52 card deck into 2\n",
    "put a card down from each deck which ever's card is bigger will get both cards to their deck\n"
   ]
  },
  {
   "cell_type": "markdown",
   "id": "e5203ae0",
   "metadata": {},
   "source": [
    "<h3> Classes: card class, Deck class, player class, game logic<h3>\n",
    "    \n"
   ]
  },
  {
   "cell_type": "code",
   "execution_count": 2,
   "id": "081b73ac",
   "metadata": {},
   "outputs": [],
   "source": [
    "# Card\n",
    "# Suit, Rank, Value"
   ]
  },
  {
   "cell_type": "code",
   "execution_count": 3,
   "id": "357c0b39",
   "metadata": {},
   "outputs": [
    {
     "ename": "IndentationError",
     "evalue": "expected an indented block (3764699917.py, line 1)",
     "output_type": "error",
     "traceback": [
      "\u001b[1;36m  Input \u001b[1;32mIn [3]\u001b[1;36m\u001b[0m\n\u001b[1;33m    class Card():\u001b[0m\n\u001b[1;37m                 ^\u001b[0m\n\u001b[1;31mIndentationError\u001b[0m\u001b[1;31m:\u001b[0m expected an indented block\n"
     ]
    }
   ],
   "source": [
    "class Card():\n",
    "    \n",
    "    def __init__(self,suit, rank)"
   ]
  },
  {
   "cell_type": "code",
   "execution_count": null,
   "id": "41d1ffb6",
   "metadata": {},
   "outputs": [],
   "source": []
  }
 ],
 "metadata": {
  "kernelspec": {
   "display_name": "Python 3 (ipykernel)",
   "language": "python",
   "name": "python3"
  },
  "language_info": {
   "codemirror_mode": {
    "name": "ipython",
    "version": 3
   },
   "file_extension": ".py",
   "mimetype": "text/x-python",
   "name": "python",
   "nbconvert_exporter": "python",
   "pygments_lexer": "ipython3",
   "version": "3.9.12"
  }
 },
 "nbformat": 4,
 "nbformat_minor": 5
}
