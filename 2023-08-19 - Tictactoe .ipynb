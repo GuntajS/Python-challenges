{
 "cells": [
  {
   "cell_type": "code",
   "execution_count": 1,
   "id": "9f887708",
   "metadata": {},
   "outputs": [],
   "source": [
    " def display(row1,row2,row):\n",
    "        print(row1)\n",
    "        print(row2)\n",
    "        print(row3)"
   ]
  },
  {
   "cell_type": "code",
   "execution_count": 2,
   "id": "615237c3",
   "metadata": {},
   "outputs": [
    {
     "name": "stdout",
     "output_type": "stream",
     "text": [
      "[' ', ' ', ' ']\n",
      "[' ', ' ', ' ']\n",
      "[' ', ' ', ' ']\n"
     ]
    }
   ],
   "source": [
    "row1 = [' ',' ', ' ']\n",
    "row2 = [' ',' ', ' ']\n",
    "row3 = [' ',' ', ' ']\n",
    "display(row1,row2,row3)\n"
   ]
  },
  {
   "cell_type": "code",
   "execution_count": 3,
   "id": "64bfcb00",
   "metadata": {},
   "outputs": [],
   "source": [
    "def user_choice():\n",
    "    # Variables\n",
    "    \n",
    "    # Initial\n",
    "    choice = 'WRONG'\n",
    "    acceptable_range = range(0,10)\n",
    "    within_range = False\n",
    "    \n",
    "    #Two Conditions to check\n",
    "    #digit or within_range == False\n",
    "    \n",
    "    while choice.isdigit() == False or within_range == False:\n",
    "        \n",
    "        choice = input(\"please enter a number (0-10): \")\n",
    "        \n",
    "        #digit check\n",
    "        if choice.isdigit() == False:\n",
    "            print(\"Invalid input: please enter an integer!\")\n",
    "        else:\n",
    "            if int(choice) in acceptable_range:      #range check \n",
    "                within_range = True\n",
    "            else:\n",
    "                print(\"Invalid input: please enter a number between 0 and 10\")\n",
    "                within_range = False\n",
    "        \n",
    "    return int(choice)"
   ]
  },
  {
   "cell_type": "code",
   "execution_count": 4,
   "id": "4613626f",
   "metadata": {},
   "outputs": [
    {
     "name": "stdout",
     "output_type": "stream",
     "text": [
      "please enter a number (0-10): \n",
      "Invalid input: please enter an integer!\n"
     ]
    },
    {
     "ename": "KeyboardInterrupt",
     "evalue": "Interrupted by user",
     "output_type": "error",
     "traceback": [
      "\u001b[1;31m---------------------------------------------------------------------------\u001b[0m",
      "\u001b[1;31mKeyboardInterrupt\u001b[0m                         Traceback (most recent call last)",
      "Input \u001b[1;32mIn [4]\u001b[0m, in \u001b[0;36m<cell line: 1>\u001b[1;34m()\u001b[0m\n\u001b[1;32m----> 1\u001b[0m \u001b[43muser_choice\u001b[49m\u001b[43m(\u001b[49m\u001b[43m)\u001b[49m\n",
      "Input \u001b[1;32mIn [3]\u001b[0m, in \u001b[0;36muser_choice\u001b[1;34m()\u001b[0m\n\u001b[0;32m      9\u001b[0m \u001b[38;5;66;03m#Two Conditions to check\u001b[39;00m\n\u001b[0;32m     10\u001b[0m \u001b[38;5;66;03m#digit or within_range == False\u001b[39;00m\n\u001b[0;32m     12\u001b[0m \u001b[38;5;28;01mwhile\u001b[39;00m choice\u001b[38;5;241m.\u001b[39misdigit() \u001b[38;5;241m==\u001b[39m \u001b[38;5;28;01mFalse\u001b[39;00m \u001b[38;5;129;01mor\u001b[39;00m within_range \u001b[38;5;241m==\u001b[39m \u001b[38;5;28;01mFalse\u001b[39;00m:\n\u001b[1;32m---> 14\u001b[0m     choice \u001b[38;5;241m=\u001b[39m \u001b[38;5;28;43minput\u001b[39;49m\u001b[43m(\u001b[49m\u001b[38;5;124;43m\"\u001b[39;49m\u001b[38;5;124;43mplease enter a number (0-10): \u001b[39;49m\u001b[38;5;124;43m\"\u001b[39;49m\u001b[43m)\u001b[49m\n\u001b[0;32m     16\u001b[0m     \u001b[38;5;66;03m#digit check\u001b[39;00m\n\u001b[0;32m     17\u001b[0m     \u001b[38;5;28;01mif\u001b[39;00m choice\u001b[38;5;241m.\u001b[39misdigit() \u001b[38;5;241m==\u001b[39m \u001b[38;5;28;01mFalse\u001b[39;00m:\n",
      "File \u001b[1;32m~\\anaconda3\\lib\\site-packages\\ipykernel\\kernelbase.py:1075\u001b[0m, in \u001b[0;36mKernel.raw_input\u001b[1;34m(self, prompt)\u001b[0m\n\u001b[0;32m   1071\u001b[0m \u001b[38;5;28;01mif\u001b[39;00m \u001b[38;5;129;01mnot\u001b[39;00m \u001b[38;5;28mself\u001b[39m\u001b[38;5;241m.\u001b[39m_allow_stdin:\n\u001b[0;32m   1072\u001b[0m     \u001b[38;5;28;01mraise\u001b[39;00m StdinNotImplementedError(\n\u001b[0;32m   1073\u001b[0m         \u001b[38;5;124m\"\u001b[39m\u001b[38;5;124mraw_input was called, but this frontend does not support input requests.\u001b[39m\u001b[38;5;124m\"\u001b[39m\n\u001b[0;32m   1074\u001b[0m     )\n\u001b[1;32m-> 1075\u001b[0m \u001b[38;5;28;01mreturn\u001b[39;00m \u001b[38;5;28;43mself\u001b[39;49m\u001b[38;5;241;43m.\u001b[39;49m\u001b[43m_input_request\u001b[49m\u001b[43m(\u001b[49m\n\u001b[0;32m   1076\u001b[0m \u001b[43m    \u001b[49m\u001b[38;5;28;43mstr\u001b[39;49m\u001b[43m(\u001b[49m\u001b[43mprompt\u001b[49m\u001b[43m)\u001b[49m\u001b[43m,\u001b[49m\n\u001b[0;32m   1077\u001b[0m \u001b[43m    \u001b[49m\u001b[38;5;28;43mself\u001b[39;49m\u001b[38;5;241;43m.\u001b[39;49m\u001b[43m_parent_ident\u001b[49m\u001b[43m[\u001b[49m\u001b[38;5;124;43m\"\u001b[39;49m\u001b[38;5;124;43mshell\u001b[39;49m\u001b[38;5;124;43m\"\u001b[39;49m\u001b[43m]\u001b[49m\u001b[43m,\u001b[49m\n\u001b[0;32m   1078\u001b[0m \u001b[43m    \u001b[49m\u001b[38;5;28;43mself\u001b[39;49m\u001b[38;5;241;43m.\u001b[39;49m\u001b[43mget_parent\u001b[49m\u001b[43m(\u001b[49m\u001b[38;5;124;43m\"\u001b[39;49m\u001b[38;5;124;43mshell\u001b[39;49m\u001b[38;5;124;43m\"\u001b[39;49m\u001b[43m)\u001b[49m\u001b[43m,\u001b[49m\n\u001b[0;32m   1079\u001b[0m \u001b[43m    \u001b[49m\u001b[43mpassword\u001b[49m\u001b[38;5;241;43m=\u001b[39;49m\u001b[38;5;28;43;01mFalse\u001b[39;49;00m\u001b[43m,\u001b[49m\n\u001b[0;32m   1080\u001b[0m \u001b[43m\u001b[49m\u001b[43m)\u001b[49m\n",
      "File \u001b[1;32m~\\anaconda3\\lib\\site-packages\\ipykernel\\kernelbase.py:1120\u001b[0m, in \u001b[0;36mKernel._input_request\u001b[1;34m(self, prompt, ident, parent, password)\u001b[0m\n\u001b[0;32m   1117\u001b[0m             \u001b[38;5;28;01mbreak\u001b[39;00m\n\u001b[0;32m   1118\u001b[0m \u001b[38;5;28;01mexcept\u001b[39;00m \u001b[38;5;167;01mKeyboardInterrupt\u001b[39;00m:\n\u001b[0;32m   1119\u001b[0m     \u001b[38;5;66;03m# re-raise KeyboardInterrupt, to truncate traceback\u001b[39;00m\n\u001b[1;32m-> 1120\u001b[0m     \u001b[38;5;28;01mraise\u001b[39;00m \u001b[38;5;167;01mKeyboardInterrupt\u001b[39;00m(\u001b[38;5;124m\"\u001b[39m\u001b[38;5;124mInterrupted by user\u001b[39m\u001b[38;5;124m\"\u001b[39m) \u001b[38;5;28;01mfrom\u001b[39;00m \u001b[38;5;28mNone\u001b[39m\n\u001b[0;32m   1121\u001b[0m \u001b[38;5;28;01mexcept\u001b[39;00m \u001b[38;5;167;01mException\u001b[39;00m:\n\u001b[0;32m   1122\u001b[0m     \u001b[38;5;28mself\u001b[39m\u001b[38;5;241m.\u001b[39mlog\u001b[38;5;241m.\u001b[39mwarning(\u001b[38;5;124m\"\u001b[39m\u001b[38;5;124mInvalid Message:\u001b[39m\u001b[38;5;124m\"\u001b[39m, exc_info\u001b[38;5;241m=\u001b[39m\u001b[38;5;28;01mTrue\u001b[39;00m)\n",
      "\u001b[1;31mKeyboardInterrupt\u001b[0m: Interrupted by user"
     ]
    }
   ],
   "source": [
    "user_choice()"
   ]
  },
  {
   "cell_type": "code",
   "execution_count": null,
   "id": "0bfe3c7b",
   "metadata": {},
   "outputs": [],
   "source": []
  },
  {
   "cell_type": "markdown",
   "id": "92bf8f06",
   "metadata": {},
   "source": [
    "Example Game:"
   ]
  },
  {
   "cell_type": "code",
   "execution_count": null,
   "id": "aa2c04a1",
   "metadata": {},
   "outputs": [],
   "source": [
    "game_list = [0,1,2]"
   ]
  },
  {
   "cell_type": "code",
   "execution_count": null,
   "id": "2edb2405",
   "metadata": {},
   "outputs": [],
   "source": [
    "def display_game(game_list):\n",
    "    print(\"Here is the current list: \")\n",
    "    print(game_list)\n",
    "    "
   ]
  },
  {
   "cell_type": "code",
   "execution_count": null,
   "id": "f25fd279",
   "metadata": {},
   "outputs": [],
   "source": [
    "display_game(game_list)"
   ]
  },
  {
   "cell_type": "code",
   "execution_count": null,
   "id": "07f912b1",
   "metadata": {},
   "outputs": [],
   "source": [
    "def position_choice():\n",
    "    choice = 'wrong'\n",
    "    \n",
    "    while choice not in ['0','1','2']:\n",
    "        choice = input(\"Pick a postion (0,1,2): \")\n",
    "        if choice not in ['0','1','2']:\n",
    "            print(\"Sorry, invalid value\")\n",
    "    return int(choice)"
   ]
  },
  {
   "cell_type": "code",
   "execution_count": null,
   "id": "ff6565b6",
   "metadata": {},
   "outputs": [],
   "source": [
    "def replacement_choice(game_list, position):\n",
    "    user_placement = input(\"Type a string to place at postion: \")\n",
    "    \n",
    "    game_list[position] = user_placement\n",
    "    \n",
    "    return game_list"
   ]
  },
  {
   "cell_type": "code",
   "execution_count": null,
   "id": "b0e357fa",
   "metadata": {},
   "outputs": [],
   "source": [
    "def gameon_choice():\n",
    "    choice = 'wrong'\n",
    "    \n",
    "    while choice not in ['Y','N']:\n",
    "        choice = input(\"Keep Playing? (Y,N): \")\n",
    "        if choice not in ['Y','N']:\n",
    "            print(\"Sorry, invalid value\")\n",
    "            \n",
    "    if choice == 'Y':\n",
    "        return True\n",
    "    else:\n",
    "        return False"
   ]
  },
  {
   "cell_type": "code",
   "execution_count": null,
   "id": "30d00b8d",
   "metadata": {},
   "outputs": [],
   "source": [
    "game_on = True\n",
    "game_list = [0,1,2]\n",
    "\n",
    "while game_on:\n",
    "    \n",
    "    display_game(game_list)\n",
    "    \n",
    "    position = position_choice()\n",
    "    \n",
    "    game_list = replacement_choice(game_list,position)\n",
    "    \n",
    "    display_game(game_list)\n",
    "    \n",
    "    game_on = gameon_choice()"
   ]
  },
  {
   "cell_type": "code",
   "execution_count": 2,
   "id": "7284fd32",
   "metadata": {},
   "outputs": [
    {
     "name": "stdout",
     "output_type": "stream",
     "text": [
      "   |   |   \n",
      " X | O | X \n",
      "   |   |   \n",
      "-----------\n",
      "   |   |   \n",
      " O | X | O \n",
      "   |   |   \n",
      "-----------\n",
      "   |   |   \n",
      " X | O | X \n",
      "   |   |   \n"
     ]
    }
   ],
   "source": [
    "from IPython.display import clear_output\n",
    "\n",
    "def display_board(board):\n",
    "    \n",
    "    print(f\"   |   |   \\n {board[7]} | {board[8]} | {board[9]} \\n   |   |   \\n-----------\\n   |   |   \\n {board[4]} | {board[5]} | {board[6]} \\n   |   |   \\n-----------\\n   |   |   \\n {board[1]} | {board[2]} | {board[3]} \\n   |   |   \")\n",
    "\n",
    "test_board = ['#','X','O','X','O','X','O','X','O','X']\n",
    "display_board(test_board)\n",
    "    \n",
    "    "
   ]
  },
  {
   "cell_type": "markdown",
   "id": "6050ee5b",
   "metadata": {},
   "source": [
    "def player_input(board,player_1_turn):\n",
    "    #variables\n",
    "    \n",
    "    choice = 'wrong'\n",
    "    acceptable_input = range(1,9)\n",
    "    \n",
    "    while choice not in acceptable_input:\n",
    "        \n",
    "        choice = int(input(\"Choose your next postion: (1-9)\"))\n",
    "        if choice not in acceptable_input:\n",
    "     -       print(\"sorry value not in range\")\n",
    "    if player_1_turn == True:\n",
    "        board[choice] = 'X'\n",
    "        player_1_turn = False\n",
    "    else:\n",
    "        board[choice] = 'O'\n",
    "        player_1_turn = True\n",
    "    return board"
   ]
  },
  {
   "cell_type": "code",
   "execution_count": 3,
   "id": "58d11f68",
   "metadata": {},
   "outputs": [],
   "source": [
    "def player_input():\n",
    "    #variables\n",
    "    markers = ['X','O']\n",
    "    marker_input = \" \"\n",
    "    \n",
    "    \n",
    "    #validating marker input\n",
    "    while marker_input not in markers:\n",
    "        marker_input = input(\"Do you want to be X or O? \")\n",
    "        if marker_input not in markers:\n",
    "            print(\"invalid input: please choose between X or O\")\n",
    "    player_1 = marker_input\n",
    "    player_2 = ' '\n",
    "    if player_1 == 'X':\n",
    "        player_2 = 'O'\n",
    "    else:\n",
    "        player_2 = 'X'\n",
    "                   \n",
    "    return (player_1,player_2)"
   ]
  },
  {
   "cell_type": "code",
   "execution_count": 4,
   "id": "2d467297",
   "metadata": {},
   "outputs": [],
   "source": [
    "def place_marker(board,marker,position):\n",
    "    board[position] = marker\n"
   ]
  },
  {
   "cell_type": "code",
   "execution_count": 5,
   "id": "ecef3082",
   "metadata": {},
   "outputs": [],
   "source": [
    "def win_check(board,mark):\n",
    "    win = False\n",
    "    if (board[1] == mark and board[2] == mark and board[3] == mark) or  (board[4] == mark and board[5] == mark and board[6] == mark) or (board[7] == mark and board[8] == mark and board[9] == mark) or (board[1] == mark and board[4] == mark and board[7] == mark) or (board[2] == mark and board[5] == mark and board[8] == mark) or (board[9] == mark and board[6] == mark and board[3] == mark) or (board[1] == mark and board[5] == mark and board[9] == mark) or (board[7] == mark and board[5] == mark and board[3] == mark):\n",
    "        win = True\n",
    "    return win\n",
    "    "
   ]
  },
  {
   "cell_type": "code",
   "execution_count": 6,
   "id": "f2fcfa3e",
   "metadata": {},
   "outputs": [],
   "source": [
    "import random\n",
    "\n",
    "def choose_first():\n",
    "    player_number = random.randint(1,2)\n",
    "    if player_number == 1:\n",
    "        return \"player_1\"\n",
    "    else:\n",
    "        return \"player_2\""
   ]
  },
  {
   "cell_type": "code",
   "execution_count": 7,
   "id": "3e1c3aa4",
   "metadata": {},
   "outputs": [],
   "source": [
    "def space_check(board,position):\n",
    "    return board[position] == ' '"
   ]
  },
  {
   "cell_type": "code",
   "execution_count": 8,
   "id": "b1e78b9a",
   "metadata": {},
   "outputs": [],
   "source": [
    "def full_board_check(board):\n",
    "    for i in board:\n",
    "        if i == ' ':\n",
    "            return False\n",
    "    return True"
   ]
  },
  {
   "cell_type": "code",
   "execution_count": 9,
   "id": "e2a9b2b6",
   "metadata": {},
   "outputs": [],
   "source": [
    "def player_choice(board):\n",
    "    \n",
    "    \n",
    "    position_input = 'wrong'\n",
    "    acceptable_input = range(1,10)\n",
    "    within_range =False\n",
    "    \n",
    "     #Validating position input       \n",
    "    while position_input.isdigit() == False or within_range == False or space_check(board,int(position_input)) == False:\n",
    "        position_input = input(\"please enter a number (1-9): \")\n",
    "        \n",
    "        #digit check\n",
    "        if position_input.isdigit() == False:\n",
    "            print(\"Invalid input: please enter an integer!\")\n",
    "        elif not space_check(board,int(position_input)):\n",
    "            print(\"This space is not free please try again\")\n",
    "            \n",
    "        else:\n",
    "            if int(position_input) in acceptable_input:      #range check \n",
    "                within_range = True\n",
    "            else:\n",
    "                print(\"Invalid input: please enter a number between 1 and 9\")\n",
    "                within_range = False\n",
    "    return int(position_input)"
   ]
  },
  {
   "cell_type": "code",
   "execution_count": 10,
   "id": "1071756b",
   "metadata": {},
   "outputs": [],
   "source": [
    "def replay():\n",
    "    replay_input = input(\"Do you want to play again? \")\n",
    "    if replay_input == \"Yes\" or replay_input == 'yes':\n",
    "        return True\n",
    "    else:\n",
    "        return False"
   ]
  },
  {
   "cell_type": "code",
   "execution_count": 11,
   "id": "ecc76aa0",
   "metadata": {},
   "outputs": [
    {
     "name": "stdout",
     "output_type": "stream",
     "text": [
      "   |   |   \n",
      " X | X | X \n",
      "   |   |   \n",
      "-----------\n",
      "   |   |   \n",
      " O | O | X \n",
      "   |   |   \n",
      "-----------\n",
      "   |   |   \n",
      " X | O | O \n",
      "   |   |   \n",
      "we have a winner : X !!!!\n"
     ]
    }
   ],
   "source": [
    "print('Welcome to Tic Tac Toe!')\n",
    "\n",
    "while True:\n",
    "    board = ['#',' ',' ',' ',' ',' ',' ',' ',' ',' ']\n",
    "    marker = player_input()\n",
    "    game_on = True #checking if the game is still going\n",
    "    player_2_turn = False #defines which marker to use where 0 (index) is player1's marker and 1 is player 2's marker\n",
    "    while game_on:\n",
    "        position = player_choice(board)\n",
    "        place_marker(board,marker[player_2_turn],position)\n",
    "        clear_output()\n",
    "        display_board(board)\n",
    "        if win_check(board,marker[player_2_turn]):\n",
    "            game_on = False\n",
    "            print(f\"we have a winner : {marker[player_2_turn]} !!!!\")\n",
    "        elif full_board_check(board):\n",
    "            print(\"The game is a draw\")\n",
    "            game_on = False\n",
    "        player_2_turn = not player_2_turn\n",
    "    \n",
    "    if not replay():\n",
    "        break"
   ]
  },
  {
   "cell_type": "code",
   "execution_count": null,
   "id": "e23a24f6",
   "metadata": {},
   "outputs": [
    {
     "ename": "",
     "evalue": "",
     "output_type": "error",
     "traceback": [
      "\u001b[1;31mRunning cells with 'c:\\Users\\gunta\\AppData\\Local\\Programs\\Python\\Python311\\python.exe' requires the ipykernel package.\n",
      "\u001b[1;31mRun the following command to install 'ipykernel' into the Python environment. \n",
      "\u001b[1;31mCommand: 'c:/Users/gunta/AppData/Local/Programs/Python/Python311/python.exe -m pip install ipykernel -U --user --force-reinstall'"
     ]
    }
   ],
   "source": [
    "player_2_turn = False\n",
    "board = ['#',' ',' ',' ',' ',' ',' ',' ',' ',' ']\n",
    "marker = player_input()\n",
    "while playGame:\n",
    "    position = player_choice(board)\n",
    "    place_marker()\n",
    "\n"
   ]
  },
  {
   "cell_type": "code",
   "execution_count": null,
   "id": "864e0045",
   "metadata": {},
   "outputs": [
    {
     "ename": "",
     "evalue": "",
     "output_type": "error",
     "traceback": [
      "\u001b[1;31mRunning cells with 'c:\\Users\\gunta\\AppData\\Local\\Programs\\Python\\Python311\\python.exe' requires the ipykernel package.\n",
      "\u001b[1;31mRun the following command to install 'ipykernel' into the Python environment. \n",
      "\u001b[1;31mCommand: 'c:/Users/gunta/AppData/Local/Programs/Python/Python311/python.exe -m pip install ipykernel -U --user --force-reinstall'"
     ]
    }
   ],
   "source": []
  }
 ],
 "metadata": {
  "kernelspec": {
   "display_name": "Python 3 (ipykernel)",
   "language": "python",
   "name": "python3"
  },
  "language_info": {
   "codemirror_mode": {
    "name": "ipython",
    "version": 3
   },
   "file_extension": ".py",
   "mimetype": "text/x-python",
   "name": "python",
   "nbconvert_exporter": "python",
   "pygments_lexer": "ipython3",
   "version": "3.11.4"
  }
 },
 "nbformat": 4,
 "nbformat_minor": 5
}
